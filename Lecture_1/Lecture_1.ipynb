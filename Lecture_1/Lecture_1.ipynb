{
 "cells": [
  {
   "cell_type": "markdown",
   "metadata": {
    "slideshow": {
     "slide_type": "slide"
    }
   },
   "source": [
    "<h2 class = \"red\"> Lecture 1 </h2>\n",
    "<h3 class = \"blue\"> Hello World </h3>\n",
    "\n",
    "### Nenad Svrzikapa\n"
   ]
  },
  {
   "cell_type": "markdown",
   "metadata": {
    "slideshow": {
     "slide_type": "notes"
    }
   },
   "source": [
    "The series start with basic programming concepts, but will increasingly feature biological applications.  The moment we are done with the basics, I'd be happy to present on a topic you are interested in.  My hope is that everyone can get something out of these presentations.  It will take several sessions to get the basics down.  Once you master the basic concepts, you will be able to find, learn and use the packages and apply them in order to accomplish specific tasks.  Enabling you to explore independantly is our main goal. \n",
    "\n",
    "After every session I will include a few small exercises.  These won't take too much of your time, but are meant to make your write some code and experiment.  Feel free to discuss how you solved the problems because there may be more than one way to do it.\n",
    "\n",
    "Finally, I spent an hour today trying to figure out why my plotting function wasn't working.  It was one piece of data that whose type was incompatible with the rest of the data.  A simple missing value...  It was such an easy fix, yet it didn't cross my mind that this could be the problem for a while.  Patience is key in programming.  Instead of being frustrated, I like to think of debugging as solving small puzzles.  It really feels great when you solve them! The reason I am saying this is because I Don't want you to get discouraged by errors.  Errors are an important part of learning a programming language and they are fun to fix.\n",
    "\n",
    "If you are really serious about learning Python, the only book you need is Learning Python by Mark Lutz.  You can check it out on Jesse's desk.  It's a complete reference and something you will go back to all the time.\n",
    "https://www.amazon.com/Learning-Python-5th-Mark-Lutz/dp/1449355730\n",
    "I've used many books in the past and this is by far the most complete and best one."
   ]
  },
  {
   "cell_type": "markdown",
   "metadata": {
    "slideshow": {
     "slide_type": "slide"
    }
   },
   "source": [
    "# The official  mini-tour\n",
    "## of the\n",
    "### Jupyter Notebook\n",
    "\n",
    "* It's fantastic\n",
    "* For now just remember the two types of cells:\n",
    "    1. Markdown (where you can document your code)\n",
    "    2. Code (where you will use Python)\n",
    "    \n",
    "Double click to enter a cell.\n",
    "Shift + Enter to execute the code in that cell."
   ]
  },
  {
   "cell_type": "markdown",
   "metadata": {
    "slideshow": {
     "slide_type": "slide"
    }
   },
   "source": [
    "## Our Mission\n",
    "<p class=\"grey\"> </p>\n",
    "<hr class=\"red\">\n",
    "<center>LEARN THE BASICS: A FEW LEGO PIECES CAN CREATE INCREDIBLE COMPLEXITY</center>\n",
    "<center>HOW TO WRITE EFFICIENT PYTHON</center>\n",
    "<center>HOW TO USE PYTHON  TO ANALYZE DATA</center>\n",
    "<center>LEARN ABOUT PYTHON LIBRARIES USED BY DATA SCIENTISTS AND BIOINFORMATICIANS</center>\n",
    "<center>NGS TOOLS (Linux) </center>\n",
    " "
   ]
  },
  {
   "cell_type": "markdown",
   "metadata": {
    "slideshow": {
     "slide_type": "slide"
    }
   },
   "source": [
    "<center><img style=\"align: center;\"  src=\"https://github.com/sunworshipper/e29/blob/master/Lecture_1/2018_python_philosophy.jpeg?raw=true\"> </center>"
   ]
  },
  {
   "cell_type": "code",
   "execution_count": 31,
   "metadata": {
    "slideshow": {
     "slide_type": "slide"
    }
   },
   "outputs": [
    {
     "name": "stdout",
     "output_type": "stream",
     "text": [
      "The Zen of Python, by Tim Peters\n",
      "\n",
      "Beautiful is better than ugly.\n",
      "Explicit is better than implicit.\n",
      "Simple is better than complex.\n",
      "Complex is better than complicated.\n",
      "Flat is better than nested.\n",
      "Sparse is better than dense.\n",
      "Readability counts.\n",
      "Special cases aren't special enough to break the rules.\n",
      "Although practicality beats purity.\n",
      "Errors should never pass silently.\n",
      "Unless explicitly silenced.\n",
      "In the face of ambiguity, refuse the temptation to guess.\n",
      "There should be one-- and preferably only one --obvious way to do it.\n",
      "Although that way may not be obvious at first unless you're Dutch.\n",
      "Now is better than never.\n",
      "Although never is often better than *right* now.\n",
      "If the implementation is hard to explain, it's a bad idea.\n",
      "If the implementation is easy to explain, it may be a good idea.\n",
      "Namespaces are one honking great idea -- let's do more of those!\n"
     ]
    }
   ],
   "source": [
    "#If you ever want to remind yourself of the Zen of python execute the line:\n",
    "import this"
   ]
  },
  {
   "cell_type": "markdown",
   "metadata": {
    "slideshow": {
     "slide_type": "slide"
    }
   },
   "source": [
    "<p class=\"white center\" >JAVA</p>"
   ]
  },
  {
   "cell_type": "markdown",
   "metadata": {
    "collapsed": true,
    "slideshow": {
     "slide_type": "fragment"
    }
   },
   "source": [
    "<pre>public class Hello{\n",
    "    public static void main (String[] args){ \n",
    "        System.out.println(\"Hello world!\");\n",
    "    }\n",
    "}<pre>"
   ]
  },
  {
   "cell_type": "code",
   "execution_count": 4,
   "metadata": {
    "slideshow": {
     "slide_type": "slide"
    }
   },
   "outputs": [
    {
     "data": {
      "image/jpeg": "[encoded data removed]",
      "text/html": [
       "\n",
       "        <iframe\n",
       "            width=\"400\"\n",
       "            height=\"300\"\n",
       "            src=\"https://www.youtube.com/embed/d7rYddfRm4c\"\n",
       "            frameborder=\"0\"\n",
       "            allowfullscreen\n",
       "        ></iframe>\n",
       "        "
      ],
      "text/plain": [
       "<IPython.lib.display.YouTubeVideo at 0x107044780>"
      ]
     },
     "execution_count": 4,
     "metadata": {},
     "output_type": "execute_result"
    }
   ],
   "source": [
    "#This is how you can easily embed video in the notebook\n",
    "from IPython.display import YouTubeVideo\n",
    "# a nice Demo of Hello World in Java\n",
    "# Video credit: Android Development\n",
    "YouTubeVideo('d7rYddfRm4c')"
   ]
  },
  {
   "cell_type": "markdown",
   "metadata": {
    "collapsed": true,
    "slideshow": {
     "slide_type": "slide"
    }
   },
   "source": [
    "<center><h1 class = \"yellow\"> Python's philosophy emphasises simplicity, elegance and readability.</h1></center>"
   ]
  },
  {
   "cell_type": "markdown",
   "metadata": {
    "slideshow": {
     "slide_type": "slide"
    }
   },
   "source": [
    "<p class=\"white center\">Python</p>"
   ]
  },
  {
   "cell_type": "code",
   "execution_count": 11,
   "metadata": {
    "slideshow": {
     "slide_type": "fragment"
    }
   },
   "outputs": [
    {
     "name": "stdout",
     "output_type": "stream",
     "text": [
      "Hello world\n"
     ]
    }
   ],
   "source": [
    "print (\"Hello world\")"
   ]
  },
  {
   "cell_type": "markdown",
   "metadata": {
    "collapsed": true,
    "slideshow": {
     "slide_type": "slide"
    }
   },
   "source": [
    "<center><h1 class = \"yellow\"> Easy to learn... </h1></center>\n",
    "\n"
   ]
  },
  {
   "cell_type": "markdown",
   "metadata": {
    "slideshow": {
     "slide_type": "fragment"
    }
   },
   "source": [
    "<blockquote>It was nice to learn Python; a nice afternoon<footer> Donald Ervin Knuth</footer></blockquote>"
   ]
  },
  {
   "cell_type": "markdown",
   "metadata": {
    "slideshow": {
     "slide_type": "slide"
    }
   },
   "source": [
    "<center><img style=\"align: center;\"  src=\"https://github.com/sunworshipper/oxford/blob/master/Lecture_1/Lecture 1_170126.001.jpeg?raw=true\"> </center>"
   ]
  },
  {
   "cell_type": "markdown",
   "metadata": {
    "collapsed": true,
    "slideshow": {
     "slide_type": "slide"
    }
   },
   "source": [
    "<center><h1 class = \"blue\"> The print function</h1></center>"
   ]
  },
  {
   "cell_type": "code",
   "execution_count": 15,
   "metadata": {
    "slideshow": {
     "slide_type": "fragment"
    }
   },
   "outputs": [
    {
     "name": "stdout",
     "output_type": "stream",
     "text": [
      "Hello World\n",
      "ACTGCGCCAGCATGC\n",
      "The meaning of life the universe and everything is:  42\n"
     ]
    }
   ],
   "source": [
    "#It appears that the print function will output whatever object is passed to it\n",
    "#It will evaluate any expression before outputing the result of that calculation\n",
    "#Note that every line gets evaluated one after another\n",
    "#print(\"How about me?\")  Did you notice this line not printing?  \n",
    "#That's because # comments out a line of code\n",
    "#commenting out lines of code is useful for debugging and leaving helpful notes\n",
    "#ALWAYS DOCUMENT WHAT YOU ARE DOING, THE FUTURE YOU WILL THANK YOU FOR YOUR THOUGHTFULNESS\n",
    "#Note that the jupyter notebook markdown cells are a great way to document, \n",
    "#but you will want to sprinkle in some code commenting too\n",
    "print (\"Hello World\")\n",
    "print (\"ACTGCGCCAGCATGC\")\n",
    "print (\"The meaning of life the universe and everything is: \", 4*10+2)"
   ]
  },
  {
   "cell_type": "markdown",
   "metadata": {
    "collapsed": true,
    "slideshow": {
     "slide_type": "slide"
    }
   },
   "source": [
    "<center><h1 class = \"blue\"> Your turn: Use the print function to output your name</h1></center>"
   ]
  },
  {
   "cell_type": "code",
   "execution_count": 17,
   "metadata": {
    "slideshow": {
     "slide_type": "fragment"
    }
   },
   "outputs": [
    {
     "name": "stdout",
     "output_type": "stream",
     "text": [
      "\"Nenad\"\n"
     ]
    }
   ],
   "source": [
    "#Hmmm so is it single or double quotations?\n",
    "#Either works, this is helpful if you want to actually print out the quotation marks as part of the string.\n",
    "print ('\"Nenad\"')"
   ]
  },
  {
   "cell_type": "markdown",
   "metadata": {
    "collapsed": true,
    "slideshow": {
     "slide_type": "slide"
    }
   },
   "source": [
    "<center><h1 class = \"blue\"> Strings </h1></center>\n",
    "\n",
    "* Python strings are immutable objects (more about this when we learn about Dictionaries)\n",
    "* You can construct them by enclosing text in single or double quotation marks\n",
    "* You can typecast and convert values to strings with the str() method\n",
    "* Strings are sequences\n",
    "* Elements of sequences can be accessed by their index\n",
    "* Strings can be sliced s[start:end] \n",
    "* Python has numerous string functions that you can explore with help(str)"
   ]
  },
  {
   "cell_type": "markdown",
   "metadata": {
    "slideshow": {
     "slide_type": "slide"
    }
   },
   "source": [
    "<center><img style=\"align: center;\"  src=\"https://github.com/sunworshipper/oxford/blob/master/Lecture_1/Lecture 2_170201.001.jpeg?raw=true\"> </center>"
   ]
  },
  {
   "cell_type": "code",
   "execution_count": 72,
   "metadata": {
    "slideshow": {
     "slide_type": "fragment"
    }
   },
   "outputs": [
    {
     "name": "stdout",
     "output_type": "stream",
     "text": [
      "SPAM\n"
     ]
    }
   ],
   "source": [
    "a = \"SPAM\"\n",
    "print (a)"
   ]
  },
  {
   "cell_type": "markdown",
   "metadata": {
    "slideshow": {
     "slide_type": "slide"
    }
   },
   "source": [
    "<center><img style=\"align: center;\"  src=\"https://github.com/sunworshipper/oxford/blob/master/Lecture_1/Lecture 2_170201.002.jpeg?raw=true\"> </center>"
   ]
  },
  {
   "cell_type": "markdown",
   "metadata": {
    "slideshow": {
     "slide_type": "slide"
    }
   },
   "source": [
    "<center><img style=\"align: center;\"  src=\"https://github.com/sunworshipper/oxford/blob/master/Lecture_1/Lecture 2_170201.003.jpeg?raw=true\"> </center>"
   ]
  },
  {
   "cell_type": "code",
   "execution_count": 74,
   "metadata": {
    "slideshow": {
     "slide_type": "fragment"
    }
   },
   "outputs": [
    {
     "name": "stdout",
     "output_type": "stream",
     "text": [
      "a\n"
     ]
    }
   ],
   "source": [
    "a = \"Spam\"\n",
    "#Sequences in most if not all programming languages are 0 indexed\n",
    "#We start counting at 0\n",
    "print (a[2])"
   ]
  },
  {
   "cell_type": "markdown",
   "metadata": {
    "slideshow": {
     "slide_type": "slide"
    }
   },
   "source": [
    "<center><img style=\"align: center;\"  src=\"https://github.com/sunworshipper/oxford/blob/master/Lecture_1/Lecture 2_170201.004.jpeg?raw=true\"> </center>"
   ]
  },
  {
   "cell_type": "code",
   "execution_count": 76,
   "metadata": {
    "slideshow": {
     "slide_type": "fragment"
    }
   },
   "outputs": [
    {
     "name": "stdout",
     "output_type": "stream",
     "text": [
      "39\n"
     ]
    }
   ],
   "source": [
    "#How long is this DNA Sequence?\n",
    "my_dna = \"ACTGGGAGGCTATCGTAGCTGATCGTAGCTAGTCGTAGC\"\n",
    "print (len(my_dna))\n",
    "\n",
    "#Is len a function?"
   ]
  },
  {
   "cell_type": "markdown",
   "metadata": {
    "slideshow": {
     "slide_type": "slide"
    }
   },
   "source": [
    "<center><img style=\"align: center;\"  src=\"https://github.com/sunworshipper/oxford/blob/master/Lecture_1/Lecture 2_170201.005.jpeg?raw=true\"> </center>"
   ]
  },
  {
   "cell_type": "markdown",
   "metadata": {
    "slideshow": {
     "slide_type": "slide"
    }
   },
   "source": [
    "<center><img style=\"align: center;\"  src=\"https://github.com/sunworshipper/oxford/blob/master/Lecture_1/Lecture 2_170201.006.jpeg?raw=true\"> </center>"
   ]
  },
  {
   "cell_type": "code",
   "execution_count": 78,
   "metadata": {
    "slideshow": {
     "slide_type": "slide"
    }
   },
   "outputs": [
    {
     "name": "stdout",
     "output_type": "stream",
     "text": [
      "ACTGGGAGGCTATCGTAGCTGATCGTAGCTAGTCGTAGC\n",
      "GAGGC\n",
      "GAGGCTATCGTAGCTGATCGTAGCTAGTCGTAGC\n"
     ]
    }
   ],
   "source": [
    "print (my_dna)\n",
    "\n",
    "print (my_dna[5:10])\n",
    "print (my_dna[5:])"
   ]
  },
  {
   "cell_type": "markdown",
   "metadata": {
    "slideshow": {
     "slide_type": "slide"
    }
   },
   "source": [
    "<center><img style=\"align: center;\"  src=\"https://github.com/sunworshipper/oxford/blob/master/Lecture_1/Lecture 2_170201.007.jpeg?raw=true\"> </center>"
   ]
  },
  {
   "cell_type": "markdown",
   "metadata": {
    "slideshow": {
     "slide_type": "slide"
    }
   },
   "source": [
    "<center><img style=\"align: center;\"  src=\"https://github.com/sunworshipper/oxford/blob/master/Lecture_1/Lecture 2_170201.008.jpeg?raw=true\"> </center>"
   ]
  },
  {
   "cell_type": "code",
   "execution_count": 49,
   "metadata": {
    "slideshow": {
     "slide_type": "slide"
    }
   },
   "outputs": [
    {
     "name": "stdout",
     "output_type": "stream",
     "text": [
      "Nenad\n",
      "nenad\n"
     ]
    }
   ],
   "source": [
    "my_name = \"nenad\"\n",
    "print (my_name.capitalize())\n",
    "print (my_name)"
   ]
  },
  {
   "cell_type": "markdown",
   "metadata": {
    "slideshow": {
     "slide_type": "notes"
    }
   },
   "source": [
    "Any text can be a string.  You can store a whole book as one string, or each line can be a string, each word can be a separate string, and each character can be a separate string.  It depends on the context.\n",
    "\n",
    "Empty space \" \" is also of type string.\n",
    "\n",
    "For the purpose of genetic sequences we typically work with text files.  Nucleic acid sequences are represented as strings.  Their nomenclature IDs are typically also represented as strings.  \n",
    "\n",
    "However, the location of a gene on a chromosome is represented as a number.  This make sense because we may want to use that information to make some mathematical calculations i.e. ( calculate distances, get exon lengths etc.)"
   ]
  },
  {
   "cell_type": "code",
   "execution_count": 56,
   "metadata": {
    "slideshow": {
     "slide_type": "slide"
    }
   },
   "outputs": [
    {
     "name": "stdout",
     "output_type": "stream",
     "text": [
      "ACTGGTACGTAGCT\n",
      "4+5/25+100\n",
      "<class 'str'>\n"
     ]
    }
   ],
   "source": [
    "print (\"ACTGGTACGTAGCT\")\n",
    "#note the quotation marks, this will not evaluate it's a string\n",
    "print (\"4+5/25+100\")\n",
    "#you can check the type of any python object with the type function\n",
    "print (type(\"ACTGGTACGTAGCT\"))"
   ]
  },
  {
   "cell_type": "code",
   "execution_count": 7,
   "metadata": {
    "slideshow": {
     "slide_type": "slide"
    }
   },
   "outputs": [
    {
     "name": "stdout",
     "output_type": "stream",
     "text": [
      "The address of my_string: 4412682480\n",
      "I love Python\n",
      "The address of my_new_string: 4414100464\n",
      "my_string is alive and well: I love Java\n"
     ]
    }
   ],
   "source": [
    "my_string = \"I love Java\"\n",
    "print (\"The address of my_string:\", id(my_string))\n",
    "my_new_string = my_string.replace(\"Java\",'Python')\n",
    "print (my_new_string)\n",
    "#you will find that we didn't change the string in place\n",
    "print (\"The address of my_new_string:\", id(my_new_string))\n",
    "print (\"my_string is alive and well:\",my_string)\n",
    "#my_string.replace?\n",
    "#learn more about string functions\n",
    "#help(str)"
   ]
  },
  {
   "cell_type": "markdown",
   "metadata": {
    "collapsed": true,
    "slideshow": {
     "slide_type": "slide"
    }
   },
   "source": [
    "<center><h1 class = \"blue\"> Operator Precedence in Python</h1></center>\n",
    "\n",
    "* <span class = \"yellow\">P</span>arentheses\n",
    "* <span class = \"yellow\">E</span>xponents\n",
    "* <span class = \"yellow\">M</span>ultiplication  (Same precedence as Division)\n",
    "* <span class = \"yellow\">D</span>ivision (Same precedence as Multiplication)\n",
    "* <span class = \"yellow\">A</span>ddition (Same precedence as Subtraction)\n",
    "* <span class = \"yellow\">S</span>ubtraction (Same precedence as Addition)\n",
    "\n",
    "\n",
    "https://docs.python.org/3/reference/expressions.html"
   ]
  },
  {
   "cell_type": "markdown",
   "metadata": {
    "collapsed": true,
    "slideshow": {
     "slide_type": "slide"
    }
   },
   "source": [
    "<center><h1 class = \"yellow\"> Tricky... </h1></center>\n",
    "<center> <h2 class = \"white\">What do you think this would evaluate to? <span class = \"green\">print (-3 ** 2)</span> \n"
   ]
  },
  {
   "cell_type": "code",
   "execution_count": 12,
   "metadata": {
    "slideshow": {
     "slide_type": "fragment"
    }
   },
   "outputs": [
    {
     "name": "stdout",
     "output_type": "stream",
     "text": [
      "-9\n"
     ]
    }
   ],
   "source": [
    "#But exponents have precedence\n",
    "#First 3 gets raised to the power of 2 and only after that result becomes negative\n",
    "print (-3**2)"
   ]
  },
  {
   "cell_type": "markdown",
   "metadata": {
    "slideshow": {
     "slide_type": "slide"
    }
   },
   "source": [
    "<center><h1 class = \"yellow\"> Variables </h1></center>\n",
    "<h3 class = \"white\">Tags, Aliases that refer to some object</h3>\n",
    "<br>\n",
    "\n",
    "<pre>\n",
    "dmd_seq = \"ACTGCATCGATCGATTTCGACTTATCGACT\"\n",
    "print (dmd_seq)\n",
    "</pre>\n"
   ]
  },
  {
   "cell_type": "code",
   "execution_count": 20,
   "metadata": {
    "slideshow": {
     "slide_type": "fragment"
    }
   },
   "outputs": [
    {
     "name": "stdout",
     "output_type": "stream",
     "text": [
      "50 40 5 Nenad\n",
      "ACTGCATCGATCGATTTCGACTTATCGACT\n"
     ]
    }
   ],
   "source": [
    "my_name = \"Nenad\"\n",
    "julians_age_in_weeks = 6\n",
    "a = 5\n",
    "b = 10\n",
    "c = a * b\n",
    "\n",
    "print (c,c-10,a,my_name)\n",
    "\n",
    "dmd_seq = \"ACTGCATCGATCGATTTCGACTTATCGACT\"\n",
    "print (dmd_seq)"
   ]
  },
  {
   "cell_type": "markdown",
   "metadata": {
    "slideshow": {
     "slide_type": "slide"
    }
   },
   "source": [
    "<center><img style=\"align: center;\"  src=\"https://github.com/sunworshipper/e29/blob/master/Lecture_1/2018_e29_python_vars.001.jpeg?raw=true\"> </center>"
   ]
  },
  {
   "cell_type": "markdown",
   "metadata": {
    "slideshow": {
     "slide_type": "slide"
    }
   },
   "source": [
    "<center><img style=\"align: center;\"  src=\"https://github.com/sunworshipper/e29/blob/master/Lecture_1/2018_e29_python_vars.002.jpeg?raw=true\"> </center>"
   ]
  },
  {
   "cell_type": "markdown",
   "metadata": {
    "slideshow": {
     "slide_type": "slide"
    }
   },
   "source": [
    "<center><img style=\"align: center;\"  src=\"https://github.com/sunworshipper/e29/blob/master/Lecture_1/2018_e29_python_vars.003.jpeg?raw=true\"> </center>"
   ]
  },
  {
   "cell_type": "markdown",
   "metadata": {
    "slideshow": {
     "slide_type": "slide"
    }
   },
   "source": [
    "<center><img style=\"align: center;\"  src=\"https://github.com/sunworshipper/e29/blob/master/Lecture_1/2018_e29_python_vars.004.jpeg?raw=true\"> </center>"
   ]
  },
  {
   "cell_type": "markdown",
   "metadata": {
    "slideshow": {
     "slide_type": "slide"
    }
   },
   "source": [
    "<center><h1 class = \"yellow\"> Important Notes To Remember About Variables </h1></center>\n",
    "<br>\n",
    "\n",
    "* Always be descriptive when naming variables \n",
    "* (i.e. if you are storing a DMD mrna sequence don't write a = \"ACTGT...\", but rather dmd_mrna_seq = \"ACTGGT...\"\n",
    "* This makes your code readable by you and others\n",
    "* always use small characters when naming variables\n",
    "* if using multiple words in the name use _ to connect them\n",
    "* Following these rules will help you develop a good style.\n",
    "\n"
   ]
  },
  {
   "cell_type": "markdown",
   "metadata": {
    "slideshow": {
     "slide_type": "slide"
    }
   },
   "source": [
    "<center><h1 class = \"yellow\"> Python is a dynamically typed language </h1></center>\n",
    "<h3 class = \"white\">In a statically typed language this would not work:</h3>\n",
    "<br>\n",
    "\n",
    "<pre>\n",
    "my_name = \"Hello\"\n",
    "my_name = 5.45\n",
    "my_name = 'Nenad'\n",
    "</pre>\n"
   ]
  },
  {
   "cell_type": "markdown",
   "metadata": {
    "slideshow": {
     "slide_type": "slide"
    }
   },
   "source": [
    "<center><h1 class = \"yellow\"> Typecasting </h1></center>\n",
    "<h4 class = \"white\">Changing a value from one type to another</h4>\n",
    "<h4 class = \"white\">You will be using the type function freqquently to check the type of data you are dealing with</h4>\n",
    "\n",
    "<br>\n"
   ]
  },
  {
   "cell_type": "code",
   "execution_count": 67,
   "metadata": {
    "slideshow": {
     "slide_type": "slide"
    }
   },
   "outputs": [
    {
     "name": "stdout",
     "output_type": "stream",
     "text": [
      "<class 'float'> <class 'int'> <class 'str'> <class 'str'>\n",
      "3 3.0 ATG 45\n",
      "<class 'int'> <class 'float'> <class 'str'> <class 'int'>\n",
      "6.0\n"
     ]
    },
    {
     "ename": "TypeError",
     "evalue": "unsupported operand type(s) for +: 'int' and 'str'",
     "output_type": "error",
     "traceback": [
      "\u001b[0;31m---------------------------------------------------------------------------\u001b[0m",
      "\u001b[0;31mTypeError\u001b[0m                                 Traceback (most recent call last)",
      "\u001b[0;32m<ipython-input-67-2d4e7a281331>\u001b[0m in \u001b[0;36m<module>\u001b[0;34m()\u001b[0m\n\u001b[1;32m     25\u001b[0m \u001b[0mprint\u001b[0m \u001b[0;34m(\u001b[0m\u001b[0me\u001b[0m\u001b[0;34m)\u001b[0m\u001b[0;34m\u001b[0m\u001b[0;34m\u001b[0m\u001b[0m\n\u001b[1;32m     26\u001b[0m \u001b[0;34m\u001b[0m\u001b[0m\n\u001b[0;32m---> 27\u001b[0;31m \u001b[0mf\u001b[0m \u001b[0;34m=\u001b[0m \u001b[0ma\u001b[0m \u001b[0;34m+\u001b[0m \u001b[0mc\u001b[0m\u001b[0;34m\u001b[0m\u001b[0;34m\u001b[0m\u001b[0m\n\u001b[0m",
      "\u001b[0;31mTypeError\u001b[0m: unsupported operand type(s) for +: 'int' and 'str'"
     ]
    }
   ],
   "source": [
    "a = 3.14\n",
    "b = 3\n",
    "c = \"ATG\"\n",
    "d = \"45\"\n",
    "\n",
    "print (type(a),type(b),type(c),type(d))\n",
    "\n",
    "a = int(a)\n",
    "b = float(b)\n",
    "#It makes sense that this would not work how can you make text into an integer\n",
    "#c = int(c)\n",
    "#The interpreter is cleverly programmed and it will make an effort to recognize a number\n",
    "#This was a string, but we managed to convert it to a number.\n",
    "d = int(d)\n",
    "\n",
    "print (a,b,c,d)\n",
    "\n",
    "print (type(a),type(b),type(c),type(d))\n",
    "\n",
    "\n",
    "#Why do we care about the types of data we are working with?\n",
    "#Some operations work only for the same type\n",
    "#Think of taking a mean of your data and having a string somewhere in the middle\n",
    "\n",
    "e = a + b\n",
    "print (e)\n",
    "#but this breaks\n",
    "f = a + c"
   ]
  },
  {
   "cell_type": "markdown",
   "metadata": {
    "slideshow": {
     "slide_type": "slide"
    }
   },
   "source": [
    "### Python is extensible\n",
    "<p class=\"grey\"> Importing and examining helpful functions? </p>\n",
    "<hr class=\"red\">"
   ]
  },
  {
   "cell_type": "code",
   "execution_count": 69,
   "metadata": {
    "scrolled": true,
    "slideshow": {
     "slide_type": "fragment"
    }
   },
   "outputs": [
    {
     "name": "stdout",
     "output_type": "stream",
     "text": [
      "52\n"
     ]
    }
   ],
   "source": [
    "import math\n",
    "#use tab to see what is available\n",
    "from random import randint\n",
    "#math\n",
    "#help(math)\n",
    "#help(math.cos)\n",
    "#print(\"hello\")\n",
    "#?randint\n",
    "print (randint(1,100))"
   ]
  },
  {
   "cell_type": "markdown",
   "metadata": {
    "collapsed": true,
    "slideshow": {
     "slide_type": "slide"
    }
   },
   "source": [
    "<center><h1 class = \"green\"> Python is fast! </h1></center>\n",
    "\n",
    "* Dynamically typed\n",
    "* High-Level clear syntax\n",
    "* Interpreted"
   ]
  },
  {
   "cell_type": "markdown",
   "metadata": {
    "collapsed": true,
    "slideshow": {
     "slide_type": "fragment"
    }
   },
   "source": [
    "<center><h1 class = \"red\"> Python is slow! </h1></center>\n",
    "\n",
    "* Dynamically typed\n",
    "* High-Level clear syntax\n",
    "* Interpreted"
   ]
  },
  {
   "cell_type": "markdown",
   "metadata": {
    "slideshow": {
     "slide_type": "slide"
    }
   },
   "source": [
    "<center><img style=\"align: center;\"  src=\"https://github.com/sunworshipper/e29/blob/master/Lecture_1/2018_e29_underhood.jpeg?raw=true\"> </center>"
   ]
  },
  {
   "cell_type": "markdown",
   "metadata": {
    "slideshow": {
     "slide_type": "slide"
    }
   },
   "source": [
    "### Dynamically typed vs. Statically typed languages\n",
    "<hr class=\"red\">\n",
    "<h3 class = \"blue\">Dynamically typed</h3>\n",
    "\n",
    "* Variable names are attached to object via the assignment statement at execution time\n",
    "* During the execution of the program the same variable name can be assigned to a different object\n",
    "* This new object doesn't need to be of the same type\n",
    "\n",
    "<h3 class = \"blue\">Statically typed</h3>\n",
    "\n",
    "* Variable names are first and foremost bound to a type\n",
    "* After that they can be bound to an object\n",
    "* That object must be of the same type as the variable type\n",
    "* If the variable is declared but is not bound to an object it's Null\n"
   ]
  },
  {
   "cell_type": "markdown",
   "metadata": {
    "slideshow": {
     "slide_type": "slide"
    }
   },
   "source": [
    "<center><img style=\"align: center;\"  src=\"https://github.com/sunworshipper/e29/blob/master/Lecture_1/2018_e29_dynamic_static1.jpeg?raw=true\"> </center>"
   ]
  },
  {
   "cell_type": "markdown",
   "metadata": {
    "slideshow": {
     "slide_type": "slide"
    }
   },
   "source": [
    "<center><img style=\"align: center;\"  src=\"https://github.com/sunworshipper/e29/blob/master/Lecture_1/2018_e29_dynamic_static2.jpeg?raw=true\"> </center>"
   ]
  },
  {
   "cell_type": "code",
   "execution_count": 33,
   "metadata": {
    "slideshow": {
     "slide_type": "slide"
    }
   },
   "outputs": [
    {
     "name": "stdout",
     "output_type": "stream",
     "text": [
      "<class 'str'>\n",
      "<class 'int'>\n",
      "100\n"
     ]
    }
   ],
   "source": [
    "a = \"Welcome to the world of Python\" #a references a string object\n",
    "print (type(a))\n",
    "a = 5 #Now a references an int object\n",
    "print (type(a))\n",
    "b = 20\n",
    "c = a * b\n",
    "print (c)"
   ]
  },
  {
   "cell_type": "markdown",
   "metadata": {
    "slideshow": {
     "slide_type": "notes"
    }
   },
   "source": [
    "This woud not be possible in a language like Java or C, where you would need to declare ahead of time the type of data you will be pointing to.  Once set, you can no longer use other data types for that variable.\n",
    "\n",
    "i.e\n",
    "\n",
    "int a = 5\n",
    "a = \"Hello\"\n",
    "\n",
    "would not work in statically typed languages.  Statically typed languages require you to declare the types of all variables.  FOr compiled statically typed languages like C, after compiling the program will no longer need to deal with checking types and focus more on low-level operations; thus making it fast.\n",
    "\n",
    "Python on the other hand is dynamically typed and an interpreted language (so we don't need to compile the program before we execute it).  However, Python is also strongly typed.\n",
    "Strongly typed languages restrict certain operations for certain types of data.\n",
    "\n",
    "i.e.\n",
    "fruit = \"apple\"\n",
    "number = 5\n",
    "result = number + fruit\n",
    "\n",
    "would fail.  Namely the + sign is a concatenation for strings and addition for numbers and Python will not let you do it.\n",
    "\n",
    "A weakly typed language like Javascript would be happy to give you back \"5apple\".\n",
    "\n",
    "\n",
    "This means that the Python interpreter must take some time in figuring out what type each variable is at runtime, extract the data from the python object, run the low-level operations, and then return the result storing it in some new object.\n",
    "\n",
    "On top of that, it needs to keep track of the reference count so it can manage memory efficiently (read a bit about interning/memoization and garbage collection).\n",
    "\n",
    "Let's examine the differences."
   ]
  },
  {
   "cell_type": "markdown",
   "metadata": {
    "slideshow": {
     "slide_type": "slide"
    }
   },
   "source": [
    "<center><img style=\"align: center;\"  src=\"https://github.com/sunworshipper/oxford/blob/master/Lecture_1/Lecture 2_170201.014.jpeg?raw=true\"> </center>"
   ]
  },
  {
   "cell_type": "markdown",
   "metadata": {
    "slideshow": {
     "slide_type": "slide"
    }
   },
   "source": [
    "<center><img style=\"align: center;\"  src=\"https://github.com/sunworshipper/oxford/blob/master/Lecture_1/Lecture 2_170201.015.jpeg?raw=true\"> </center>"
   ]
  },
  {
   "cell_type": "code",
   "execution_count": 83,
   "metadata": {
    "slideshow": {
     "slide_type": "slide"
    }
   },
   "outputs": [
    {
     "name": "stdout",
     "output_type": "stream",
     "text": [
      "I FOUND IT: ELIF\n"
     ]
    }
   ],
   "source": [
    "#Now we can check conditions\n",
    "#Careful, the indendation in Python MATTERS, use tab\n",
    "my_dna = \"ATCGCGACTGAGCTCAG\"\n",
    "\n",
    "if \"CAG\" in my_dna:\n",
    "    print (\"I FOUND IT: IF\")\n",
    "elif \"ATC\" in my_dna:\n",
    "    print (\"I FOUND IT: ELIF\")\n",
    "else:\n",
    "    print (\"I DIDN'T FIND IT: ELSE\")"
   ]
  },
  {
   "cell_type": "markdown",
   "metadata": {
    "slideshow": {
     "slide_type": "slide"
    }
   },
   "source": [
    "## Types of Errors\n",
    "<hr class=\"red\">\n",
    "\n",
    "* SYNTAX ERRORS\n",
    "* RUNTIME ERRORS\n",
    "* LOGIC ERRORS"
   ]
  },
  {
   "cell_type": "code",
   "execution_count": 2,
   "metadata": {
    "slideshow": {
     "slide_type": "fragment"
    }
   },
   "outputs": [
    {
     "ename": "NameError",
     "evalue": "name 'prit' is not defined",
     "output_type": "error",
     "traceback": [
      "\u001b[0;31m---------------------------------------------------------------------------\u001b[0m",
      "\u001b[0;31mNameError\u001b[0m                                 Traceback (most recent call last)",
      "\u001b[0;32m<ipython-input-2-64e4494df4a2>\u001b[0m in \u001b[0;36m<module>\u001b[0;34m()\u001b[0m\n\u001b[0;32m----> 1\u001b[0;31m \u001b[0mprit\u001b[0m \u001b[0;34m(\u001b[0m\u001b[0;34m\"Hello\"\u001b[0m\u001b[0;34m)\u001b[0m\u001b[0;34m\u001b[0m\u001b[0;34m\u001b[0m\u001b[0m\n\u001b[0m",
      "\u001b[0;31mNameError\u001b[0m: name 'prit' is not defined"
     ]
    }
   ],
   "source": [
    "#This is a Syntax Error\n",
    "#Syntax errors are pretty easy to find and fix\n",
    "prit (\"Hello\")"
   ]
  },
  {
   "cell_type": "code",
   "execution_count": 4,
   "metadata": {
    "slideshow": {
     "slide_type": "fragment"
    }
   },
   "outputs": [
    {
     "ename": "FileNotFoundError",
     "evalue": "File b'my_file.csv' does not exist",
     "output_type": "error",
     "traceback": [
      "\u001b[0;31m---------------------------------------------------------------------------\u001b[0m",
      "\u001b[0;31mFileNotFoundError\u001b[0m                         Traceback (most recent call last)",
      "\u001b[0;32m<ipython-input-4-dbb79f3ddfa4>\u001b[0m in \u001b[0;36m<module>\u001b[0;34m()\u001b[0m\n\u001b[1;32m      2\u001b[0m \u001b[0;31m#The code is correct, but we didn't anticipate the file not being there\u001b[0m\u001b[0;34m\u001b[0m\u001b[0;34m\u001b[0m\u001b[0;34m\u001b[0m\u001b[0m\n\u001b[1;32m      3\u001b[0m \u001b[0;32mimport\u001b[0m \u001b[0mpandas\u001b[0m \u001b[0;32mas\u001b[0m \u001b[0mpd\u001b[0m\u001b[0;34m\u001b[0m\u001b[0;34m\u001b[0m\u001b[0m\n\u001b[0;32m----> 4\u001b[0;31m \u001b[0mdf\u001b[0m \u001b[0;34m=\u001b[0m \u001b[0mpd\u001b[0m\u001b[0;34m.\u001b[0m\u001b[0mread_csv\u001b[0m\u001b[0;34m(\u001b[0m\u001b[0;34m\"my_file.csv\"\u001b[0m\u001b[0;34m)\u001b[0m\u001b[0;34m\u001b[0m\u001b[0;34m\u001b[0m\u001b[0m\n\u001b[0m",
      "\u001b[0;32m/anaconda3/lib/python3.6/site-packages/pandas/io/parsers.py\u001b[0m in \u001b[0;36mparser_f\u001b[0;34m(filepath_or_buffer, sep, delimiter, header, names, index_col, usecols, squeeze, prefix, mangle_dupe_cols, dtype, engine, converters, true_values, false_values, skipinitialspace, skiprows, nrows, na_values, keep_default_na, na_filter, verbose, skip_blank_lines, parse_dates, infer_datetime_format, keep_date_col, date_parser, dayfirst, iterator, chunksize, compression, thousands, decimal, lineterminator, quotechar, quoting, escapechar, comment, encoding, dialect, tupleize_cols, error_bad_lines, warn_bad_lines, skipfooter, doublequote, delim_whitespace, low_memory, memory_map, float_precision)\u001b[0m\n\u001b[1;32m    676\u001b[0m                     skip_blank_lines=skip_blank_lines)\n\u001b[1;32m    677\u001b[0m \u001b[0;34m\u001b[0m\u001b[0m\n\u001b[0;32m--> 678\u001b[0;31m         \u001b[0;32mreturn\u001b[0m \u001b[0m_read\u001b[0m\u001b[0;34m(\u001b[0m\u001b[0mfilepath_or_buffer\u001b[0m\u001b[0;34m,\u001b[0m \u001b[0mkwds\u001b[0m\u001b[0;34m)\u001b[0m\u001b[0;34m\u001b[0m\u001b[0;34m\u001b[0m\u001b[0m\n\u001b[0m\u001b[1;32m    679\u001b[0m \u001b[0;34m\u001b[0m\u001b[0m\n\u001b[1;32m    680\u001b[0m     \u001b[0mparser_f\u001b[0m\u001b[0;34m.\u001b[0m\u001b[0m__name__\u001b[0m \u001b[0;34m=\u001b[0m \u001b[0mname\u001b[0m\u001b[0;34m\u001b[0m\u001b[0;34m\u001b[0m\u001b[0m\n",
      "\u001b[0;32m/anaconda3/lib/python3.6/site-packages/pandas/io/parsers.py\u001b[0m in \u001b[0;36m_read\u001b[0;34m(filepath_or_buffer, kwds)\u001b[0m\n\u001b[1;32m    438\u001b[0m \u001b[0;34m\u001b[0m\u001b[0m\n\u001b[1;32m    439\u001b[0m     \u001b[0;31m# Create the parser.\u001b[0m\u001b[0;34m\u001b[0m\u001b[0;34m\u001b[0m\u001b[0;34m\u001b[0m\u001b[0m\n\u001b[0;32m--> 440\u001b[0;31m     \u001b[0mparser\u001b[0m \u001b[0;34m=\u001b[0m \u001b[0mTextFileReader\u001b[0m\u001b[0;34m(\u001b[0m\u001b[0mfilepath_or_buffer\u001b[0m\u001b[0;34m,\u001b[0m \u001b[0;34m**\u001b[0m\u001b[0mkwds\u001b[0m\u001b[0;34m)\u001b[0m\u001b[0;34m\u001b[0m\u001b[0;34m\u001b[0m\u001b[0m\n\u001b[0m\u001b[1;32m    441\u001b[0m \u001b[0;34m\u001b[0m\u001b[0m\n\u001b[1;32m    442\u001b[0m     \u001b[0;32mif\u001b[0m \u001b[0mchunksize\u001b[0m \u001b[0;32mor\u001b[0m \u001b[0miterator\u001b[0m\u001b[0;34m:\u001b[0m\u001b[0;34m\u001b[0m\u001b[0;34m\u001b[0m\u001b[0m\n",
      "\u001b[0;32m/anaconda3/lib/python3.6/site-packages/pandas/io/parsers.py\u001b[0m in \u001b[0;36m__init__\u001b[0;34m(self, f, engine, **kwds)\u001b[0m\n\u001b[1;32m    785\u001b[0m             \u001b[0mself\u001b[0m\u001b[0;34m.\u001b[0m\u001b[0moptions\u001b[0m\u001b[0;34m[\u001b[0m\u001b[0;34m'has_index_names'\u001b[0m\u001b[0;34m]\u001b[0m \u001b[0;34m=\u001b[0m \u001b[0mkwds\u001b[0m\u001b[0;34m[\u001b[0m\u001b[0;34m'has_index_names'\u001b[0m\u001b[0;34m]\u001b[0m\u001b[0;34m\u001b[0m\u001b[0;34m\u001b[0m\u001b[0m\n\u001b[1;32m    786\u001b[0m \u001b[0;34m\u001b[0m\u001b[0m\n\u001b[0;32m--> 787\u001b[0;31m         \u001b[0mself\u001b[0m\u001b[0;34m.\u001b[0m\u001b[0m_make_engine\u001b[0m\u001b[0;34m(\u001b[0m\u001b[0mself\u001b[0m\u001b[0;34m.\u001b[0m\u001b[0mengine\u001b[0m\u001b[0;34m)\u001b[0m\u001b[0;34m\u001b[0m\u001b[0;34m\u001b[0m\u001b[0m\n\u001b[0m\u001b[1;32m    788\u001b[0m \u001b[0;34m\u001b[0m\u001b[0m\n\u001b[1;32m    789\u001b[0m     \u001b[0;32mdef\u001b[0m \u001b[0mclose\u001b[0m\u001b[0;34m(\u001b[0m\u001b[0mself\u001b[0m\u001b[0;34m)\u001b[0m\u001b[0;34m:\u001b[0m\u001b[0;34m\u001b[0m\u001b[0;34m\u001b[0m\u001b[0m\n",
      "\u001b[0;32m/anaconda3/lib/python3.6/site-packages/pandas/io/parsers.py\u001b[0m in \u001b[0;36m_make_engine\u001b[0;34m(self, engine)\u001b[0m\n\u001b[1;32m   1012\u001b[0m     \u001b[0;32mdef\u001b[0m \u001b[0m_make_engine\u001b[0m\u001b[0;34m(\u001b[0m\u001b[0mself\u001b[0m\u001b[0;34m,\u001b[0m \u001b[0mengine\u001b[0m\u001b[0;34m=\u001b[0m\u001b[0;34m'c'\u001b[0m\u001b[0;34m)\u001b[0m\u001b[0;34m:\u001b[0m\u001b[0;34m\u001b[0m\u001b[0;34m\u001b[0m\u001b[0m\n\u001b[1;32m   1013\u001b[0m         \u001b[0;32mif\u001b[0m \u001b[0mengine\u001b[0m \u001b[0;34m==\u001b[0m \u001b[0;34m'c'\u001b[0m\u001b[0;34m:\u001b[0m\u001b[0;34m\u001b[0m\u001b[0;34m\u001b[0m\u001b[0m\n\u001b[0;32m-> 1014\u001b[0;31m             \u001b[0mself\u001b[0m\u001b[0;34m.\u001b[0m\u001b[0m_engine\u001b[0m \u001b[0;34m=\u001b[0m \u001b[0mCParserWrapper\u001b[0m\u001b[0;34m(\u001b[0m\u001b[0mself\u001b[0m\u001b[0;34m.\u001b[0m\u001b[0mf\u001b[0m\u001b[0;34m,\u001b[0m \u001b[0;34m**\u001b[0m\u001b[0mself\u001b[0m\u001b[0;34m.\u001b[0m\u001b[0moptions\u001b[0m\u001b[0;34m)\u001b[0m\u001b[0;34m\u001b[0m\u001b[0;34m\u001b[0m\u001b[0m\n\u001b[0m\u001b[1;32m   1015\u001b[0m         \u001b[0;32melse\u001b[0m\u001b[0;34m:\u001b[0m\u001b[0;34m\u001b[0m\u001b[0;34m\u001b[0m\u001b[0m\n\u001b[1;32m   1016\u001b[0m             \u001b[0;32mif\u001b[0m \u001b[0mengine\u001b[0m \u001b[0;34m==\u001b[0m \u001b[0;34m'python'\u001b[0m\u001b[0;34m:\u001b[0m\u001b[0;34m\u001b[0m\u001b[0;34m\u001b[0m\u001b[0m\n",
      "\u001b[0;32m/anaconda3/lib/python3.6/site-packages/pandas/io/parsers.py\u001b[0m in \u001b[0;36m__init__\u001b[0;34m(self, src, **kwds)\u001b[0m\n\u001b[1;32m   1706\u001b[0m         \u001b[0mkwds\u001b[0m\u001b[0;34m[\u001b[0m\u001b[0;34m'usecols'\u001b[0m\u001b[0;34m]\u001b[0m \u001b[0;34m=\u001b[0m \u001b[0mself\u001b[0m\u001b[0;34m.\u001b[0m\u001b[0musecols\u001b[0m\u001b[0;34m\u001b[0m\u001b[0;34m\u001b[0m\u001b[0m\n\u001b[1;32m   1707\u001b[0m \u001b[0;34m\u001b[0m\u001b[0m\n\u001b[0;32m-> 1708\u001b[0;31m         \u001b[0mself\u001b[0m\u001b[0;34m.\u001b[0m\u001b[0m_reader\u001b[0m \u001b[0;34m=\u001b[0m \u001b[0mparsers\u001b[0m\u001b[0;34m.\u001b[0m\u001b[0mTextReader\u001b[0m\u001b[0;34m(\u001b[0m\u001b[0msrc\u001b[0m\u001b[0;34m,\u001b[0m \u001b[0;34m**\u001b[0m\u001b[0mkwds\u001b[0m\u001b[0;34m)\u001b[0m\u001b[0;34m\u001b[0m\u001b[0;34m\u001b[0m\u001b[0m\n\u001b[0m\u001b[1;32m   1709\u001b[0m \u001b[0;34m\u001b[0m\u001b[0m\n\u001b[1;32m   1710\u001b[0m         \u001b[0mpassed_names\u001b[0m \u001b[0;34m=\u001b[0m \u001b[0mself\u001b[0m\u001b[0;34m.\u001b[0m\u001b[0mnames\u001b[0m \u001b[0;32mis\u001b[0m \u001b[0;32mNone\u001b[0m\u001b[0;34m\u001b[0m\u001b[0;34m\u001b[0m\u001b[0m\n",
      "\u001b[0;32mpandas/_libs/parsers.pyx\u001b[0m in \u001b[0;36mpandas._libs.parsers.TextReader.__cinit__\u001b[0;34m()\u001b[0m\n",
      "\u001b[0;32mpandas/_libs/parsers.pyx\u001b[0m in \u001b[0;36mpandas._libs.parsers.TextReader._setup_parser_source\u001b[0;34m()\u001b[0m\n",
      "\u001b[0;31mFileNotFoundError\u001b[0m: File b'my_file.csv' does not exist"
     ]
    }
   ],
   "source": [
    "#This is a Runtime Error\n",
    "#The code is correct, but we didn't anticipate the file not being there\n",
    "import pandas as pd\n",
    "df = pd.read_csv(\"my_file.csv\")"
   ]
  },
  {
   "cell_type": "code",
   "execution_count": 8,
   "metadata": {
    "slideshow": {
     "slide_type": "fragment"
    }
   },
   "outputs": [
    {
     "data": {
      "text/plain": [
       "-2"
      ]
     },
     "execution_count": 8,
     "metadata": {},
     "output_type": "execute_result"
    }
   ],
   "source": [
    "#This is a Logic Error\n",
    "#The code is correct, but that's not what we meant to accomplish something else\n",
    "#Logic errors are the worst and most dangerous errors\n",
    "\n",
    "a = 5\n",
    "b = 7\n",
    "#Get sum of a and b <- Wanted to get sum but something else happened\n",
    "c = a - b\n",
    "c\n"
   ]
  },
  {
   "cell_type": "markdown",
   "metadata": {
    "slideshow": {
     "slide_type": "slide"
    }
   },
   "source": [
    "## Managing Errors\n",
    "<hr class=\"red\">\n",
    "\n",
    "* Don’t panic\n",
    "* Take a break\n",
    "* Decompose to smaller pieces of code and see where the issue is\n",
    "* Print statements and commenting out code are your friends \n",
    "* Sleep on it and try the next day \n",
    "* Consult Stack Overflow, Python has a huge helpful community\n",
    "* Keep in mind that fixing bugs will be a part of your programming life - Forever…\n",
    "* Reward yourself when you succeed! "
   ]
  },
  {
   "cell_type": "markdown",
   "metadata": {
    "collapsed": true,
    "slideshow": {
     "slide_type": "slide"
    }
   },
   "source": [
    "<center><h1 class = \"blue\"> Thank you! </h1></center>"
   ]
  },
  {
   "cell_type": "markdown",
   "metadata": {
    "collapsed": true,
    "slideshow": {
     "slide_type": "slide"
    }
   },
   "source": [
    "<center><h1 class = \"blue\"> To do: </h1></center>"
   ]
  },
  {
   "cell_type": "markdown",
   "metadata": {},
   "source": [
    "### Problem 1: Joining DNA Sequences\n",
    "\n",
    "* Strings can be concatenated using the + concatenation operator\n",
    "* Make a new string called c by concatenating a and b\n",
    "* Make a new string called d by concatenating b and a\n",
    "* print c and d with one print function\n",
    "* print c and d separately using two separate print functions"
   ]
  },
  {
   "cell_type": "code",
   "execution_count": 26,
   "metadata": {},
   "outputs": [],
   "source": [
    "a = \"ACTGCGCTGATGAC\"\n",
    "b = \"CCCCCC\"\n",
    "\n",
    "#YOUR CODE HERE\n",
    "\n",
    "\n"
   ]
  },
  {
   "cell_type": "markdown",
   "metadata": {},
   "source": [
    "### Problem 2: How many Cs are in either c or d\n",
    "\n",
    "Hint: Use the help(str) function to learn how you can count substrings in a string\n",
    "\n",
    "* uncomment the help function\n",
    "* Scroll through until you find the appropriate function to use.\n",
    "* Store the number of 'C's and assign it to a variable x\n",
    "* print x\n",
    "* Now, how many 'CT' occurences are in c or d? \n",
    "\n",
    "Note that a single character is a small string.\n",
    "Also note that \"\" or '' is an empty string."
   ]
  },
  {
   "cell_type": "code",
   "execution_count": 23,
   "metadata": {},
   "outputs": [],
   "source": [
    "#If you managed to create d in the cell above it's in memory\n",
    "#That means you can call it and use it in any cell in the notebook\n",
    "#help(str)\n",
    "\n"
   ]
  },
  {
   "cell_type": "markdown",
   "metadata": {},
   "source": [
    "### Problem 3: What is the position of the \"GCG\" motif in a?\n",
    "\n",
    "Remember: In programming languages sequences are 0 indexed (not the case in Biology)\n",
    "You will often have to adjust for this.\n",
    "\n",
    "\n",
    "Hint: You can either search for the substring or find the index of the substring\n",
    "\n",
    "Try help(str) again and see what can be helpful."
   ]
  },
  {
   "cell_type": "code",
   "execution_count": 30,
   "metadata": {},
   "outputs": [],
   "source": [
    "#YOUR CODE HERE"
   ]
  },
  {
   "cell_type": "markdown",
   "metadata": {
    "slideshow": {
     "slide_type": "subslide"
    }
   },
   "source": [
    "### Problem 4: This is harder.  Find the position of every occurence of \"GC\" in my_string\n",
    "\n",
    "Hint: Try to search for the solution on stack overflow.\n",
    "\n",
    "One way to solve this woulf be to import a module called re\n",
    "\n",
    "Try to find out the line of code that will give you the answer\n",
    "\n",
    "Print the answer.  This will also be tough for the time being.\n",
    "\n",
    "Try typecasting the result of your re function to a list.\n",
    "\n",
    "i.e. x = list(result)\n",
    "print (x)\n"
   ]
  },
  {
   "cell_type": "code",
   "execution_count": 36,
   "metadata": {},
   "outputs": [],
   "source": [
    "#You can examine if you got this right\n",
    "my_string = \"GCAAAAGCTTTTGCCCCCGCGGGG\"\n",
    "#YOUR CODE HERE"
   ]
  },
  {
   "cell_type": "markdown",
   "metadata": {
    "slideshow": {
     "slide_type": "subslide"
    }
   },
   "source": [
    "##### Problem 5: PEMDAS\n",
    "\n",
    "Evaluate the expression on a piece of paper.\n",
    "Test it in python after.  Were you correct?\n",
    "\n",
    "5-2*5+10/2-(3+7)**2 + 100"
   ]
  },
  {
   "cell_type": "code",
   "execution_count": 42,
   "metadata": {},
   "outputs": [],
   "source": [
    "#print (5-2*5+10/2-(3+7)**2)"
   ]
  },
  {
   "cell_type": "markdown",
   "metadata": {
    "slideshow": {
     "slide_type": "slide"
    }
   },
   "source": [
    "### If we have time (likely for Lecture 2)"
   ]
  },
  {
   "cell_type": "markdown",
   "metadata": {
    "collapsed": true,
    "slideshow": {
     "slide_type": "slide"
    }
   },
   "source": [
    "<center><h1 class = \"blue\"> Lists </h1></center>\n",
    "\n",
    "* Python lists can hold any type of objects\n",
    "* Lists are mutable, hence you can edit them in place\n",
    "* List elements can be accessed by their index\n",
    "* When you count remember that sequences are 0 indexed\n",
    "* Lists can also be sliced in much the same way as strings l[start:end]\n",
    "* There are numerous list functions that you can explore with help(list)"
   ]
  },
  {
   "cell_type": "code",
   "execution_count": 44,
   "metadata": {
    "slideshow": {
     "slide_type": "slide"
    }
   },
   "outputs": [
    {
     "name": "stdout",
     "output_type": "stream",
     "text": [
      "6\n"
     ]
    },
    {
     "data": {
      "text/plain": [
       "[1, 2, 3, [[1, 2, 3], [4, 5, 6]], 'Hello']"
      ]
     },
     "execution_count": 44,
     "metadata": {},
     "output_type": "execute_result"
    }
   ],
   "source": [
    "#you can mix types in lists\n",
    "#this list on the highest level has 4 elements (3 ints and 1 list of lists)\n",
    "a = [1,2,3,[[1,2,3],[4,5,6]]]\n",
    "#help(list)\n",
    "a.pop?\n",
    "print (a[3][1][2])\n",
    "a.append(\"Hello\")\n",
    "a"
   ]
  },
  {
   "cell_type": "code",
   "execution_count": 9,
   "metadata": {
    "slideshow": {
     "slide_type": "fragment"
    }
   },
   "outputs": [
    {
     "name": "stdout",
     "output_type": "stream",
     "text": [
      "['Bread', 'Eggs']\n"
     ]
    }
   ],
   "source": [
    "#you can slice lists\n",
    "a = [\"Bread\",\"Eggs\",\"Butter\"]\n",
    "print (a[:2])"
   ]
  },
  {
   "cell_type": "markdown",
   "metadata": {
    "collapsed": true,
    "slideshow": {
     "slide_type": "slide"
    }
   },
   "source": [
    "<center><h1 class = \"blue\"> Tuples </h1></center>\n",
    "\n",
    "* Similar to lists but immutable\n",
    "* In-place editing functions are not available for tuples\n",
    "* You can't add elements to tuples\n",
    "* You can't remove eleents from tuples\n",
    "* You can check if an element is in a tuple\n",
    "* You can search them\n",
    "* If the tuple elements are also immutable they tuples can be Dictionary keys"
   ]
  },
  {
   "cell_type": "code",
   "execution_count": 10,
   "metadata": {
    "slideshow": {
     "slide_type": "slide"
    }
   },
   "outputs": [
    {
     "ename": "AttributeError",
     "evalue": "'tuple' object has no attribute 'append'",
     "output_type": "error",
     "traceback": [
      "\u001b[0;31m---------------------------------------------------------------------------\u001b[0m",
      "\u001b[0;31mAttributeError\u001b[0m                            Traceback (most recent call last)",
      "\u001b[0;32m<ipython-input-10-bf353048f75c>\u001b[0m in \u001b[0;36m<module>\u001b[0;34m()\u001b[0m\n\u001b[1;32m      1\u001b[0m \u001b[0ma\u001b[0m \u001b[0;34m=\u001b[0m \u001b[0;34m(\u001b[0m\u001b[0;36m1\u001b[0m\u001b[0;34m,\u001b[0m\u001b[0;36m2\u001b[0m\u001b[0;34m,\u001b[0m\u001b[0;36m3\u001b[0m\u001b[0;34m)\u001b[0m\u001b[0;34m\u001b[0m\u001b[0m\n\u001b[0;32m----> 2\u001b[0;31m \u001b[0ma\u001b[0m\u001b[0;34m.\u001b[0m\u001b[0mappend\u001b[0m\u001b[0;34m(\u001b[0m\u001b[0;36m4\u001b[0m\u001b[0;34m)\u001b[0m\u001b[0;34m\u001b[0m\u001b[0m\n\u001b[0m\u001b[1;32m      3\u001b[0m \u001b[0mprint\u001b[0m \u001b[0;34m(\u001b[0m\u001b[0ma\u001b[0m\u001b[0;34m)\u001b[0m\u001b[0;34m\u001b[0m\u001b[0m\n",
      "\u001b[0;31mAttributeError\u001b[0m: 'tuple' object has no attribute 'append'"
     ]
    }
   ],
   "source": [
    "a = (1,2,3)\n",
    "a.append(4)\n",
    "print (a)"
   ]
  },
  {
   "cell_type": "markdown",
   "metadata": {
    "collapsed": true,
    "slideshow": {
     "slide_type": "slide"
    }
   },
   "source": [
    "<center><h1 class = \"blue\"> Dictionaries </h1></center>\n",
    "\n",
    "* Dictionaries are key:value associative arrays\n",
    "* Each unique key is mapped to a value\n",
    "* They are not accessed by index due to their Unordered nature\n",
    "* The values in dictionaries are accessed by their key\n",
    "* On average O(1) for add,delete, get value.\n",
    "* Keys must be immutable, if strings were not immutable they could not be dict keys"
   ]
  },
  {
   "cell_type": "code",
   "execution_count": 11,
   "metadata": {
    "slideshow": {
     "slide_type": "slide"
    }
   },
   "outputs": [
    {
     "name": "stdout",
     "output_type": "stream",
     "text": [
      "I am using the key Hello and asking the dictionary for the mapped value:  world\n",
      "{'Hello': 'world'}\n"
     ]
    },
    {
     "data": {
      "text/plain": [
       "'Rocks'"
      ]
     },
     "execution_count": 11,
     "metadata": {},
     "output_type": "execute_result"
    }
   ],
   "source": [
    "d = {}\n",
    "d['Hello'] = 'world'\n",
    "print (\"I am using the key Hello and asking the dictionary for the mapped value: \", d['Hello'])\n",
    "print(d)\n",
    "\n",
    "new_d = {'Python':'Rocks', 'R':'Maybe Sort Of Also Rocks...'}\n",
    "new_d['Python']"
   ]
  }
 ],
 "metadata": {
  "celltoolbar": "Slideshow",
  "kernelspec": {
   "display_name": "Python 3",
   "language": "python",
   "name": "python3"
  },
  "language_info": {
   "codemirror_mode": {
    "name": "ipython",
    "version": 3
   },
   "file_extension": ".py",
   "mimetype": "text/x-python",
   "name": "python",
   "nbconvert_exporter": "python",
   "pygments_lexer": "ipython3",
   "version": "3.6.8"
  },
  "livereveal": {
   "scroll": true,
   "start_slideshow_at": "selected",
   "transition": "zoom"
  }
 },
 "nbformat": 4,
 "nbformat_minor": 2
}
